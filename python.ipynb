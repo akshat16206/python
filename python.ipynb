{
  "nbformat": 4,
  "nbformat_minor": 0,
  "metadata": {
    "colab": {
      "provenance": [],
      "authorship_tag": "ABX9TyPg22jTODeRcqbMPnSIt35b",
      "include_colab_link": true
    },
    "kernelspec": {
      "name": "python3",
      "display_name": "Python 3"
    },
    "language_info": {
      "name": "python"
    }
  },
  "cells": [
    {
      "cell_type": "markdown",
      "metadata": {
        "id": "view-in-github",
        "colab_type": "text"
      },
      "source": [
        "<a href=\"https://colab.research.google.com/github/akshat16206/python/blob/main/python.ipynb\" target=\"_parent\"><img src=\"https://colab.research.google.com/assets/colab-badge.svg\" alt=\"Open In Colab\"/></a>"
      ]
    },
    {
      "cell_type": "markdown",
      "source": [
        "hello world"
      ],
      "metadata": {
        "id": "bd2DE5KbvcpI"
      }
    },
    {
      "cell_type": "code",
      "execution_count": 1,
      "metadata": {
        "id": "Nri2uIht32V5",
        "colab": {
          "base_uri": "https://localhost:8080/"
        },
        "outputId": "4e171307-ee56-4926-9874-909b9bc499c1"
      },
      "outputs": [
        {
          "output_type": "stream",
          "name": "stdout",
          "text": [
            "helloworld\n"
          ]
        }
      ],
      "source": [
        "print (\"helloworld\")"
      ]
    },
    {
      "cell_type": "markdown",
      "source": [
        "comments"
      ],
      "metadata": {
        "id": "zAiF0gEnvfd3"
      }
    },
    {
      "cell_type": "code",
      "source": [
        "#comments"
      ],
      "metadata": {
        "id": "131NQ86Qt13A"
      },
      "execution_count": null,
      "outputs": []
    },
    {
      "cell_type": "markdown",
      "source": [
        "input function"
      ],
      "metadata": {
        "id": "tNLCj3IIvg3r"
      }
    },
    {
      "cell_type": "code",
      "source": [
        "input(\"are you an alien\")"
      ],
      "metadata": {
        "colab": {
          "base_uri": "https://localhost:8080/",
          "height": 53
        },
        "id": "xclu8xwOvTH_",
        "outputId": "1bc3551b-9206-472c-fccf-6525548c99c6"
      },
      "execution_count": 2,
      "outputs": [
        {
          "name": "stdout",
          "output_type": "stream",
          "text": [
            "are you an alienno\n"
          ]
        },
        {
          "output_type": "execute_result",
          "data": {
            "text/plain": [
              "'no'"
            ],
            "application/vnd.google.colaboratory.intrinsic+json": {
              "type": "string"
            }
          },
          "metadata": {},
          "execution_count": 2
        }
      ]
    },
    {
      "cell_type": "code",
      "source": [
        "input(\"which is your favourite team\")"
      ],
      "metadata": {
        "colab": {
          "base_uri": "https://localhost:8080/",
          "height": 53
        },
        "id": "od9g5-5evkhB",
        "outputId": "7cfb7fcd-1cbd-48e6-8d9a-ac74fa35c76f"
      },
      "execution_count": 3,
      "outputs": [
        {
          "name": "stdout",
          "output_type": "stream",
          "text": [
            "which is your favourite teamliverpool\n"
          ]
        },
        {
          "output_type": "execute_result",
          "data": {
            "text/plain": [
              "'liverpool'"
            ],
            "application/vnd.google.colaboratory.intrinsic+json": {
              "type": "string"
            }
          },
          "metadata": {},
          "execution_count": 3
        }
      ]
    },
    {
      "cell_type": "code",
      "source": [
        "print(\"Item\\tQty\\nApples\\t5\\nPlums\\t10\")"
      ],
      "metadata": {
        "colab": {
          "base_uri": "https://localhost:8080/"
        },
        "id": "ask4Nei4wQ-D",
        "outputId": "b1ada2f6-2559-4677-dbca-1b47e11ad955"
      },
      "execution_count": 4,
      "outputs": [
        {
          "output_type": "stream",
          "name": "stdout",
          "text": [
            "Item\tQty\n",
            "Apples\t5\n",
            "Plums\t10\n"
          ]
        }
      ]
    }
  ]
}